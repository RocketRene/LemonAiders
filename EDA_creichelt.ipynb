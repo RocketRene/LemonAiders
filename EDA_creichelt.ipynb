{
 "cells": [
  {
   "cell_type": "code",
   "execution_count": 1,
   "id": "39495d97-e162-481f-bbcc-5ce4a0ab635d",
   "metadata": {},
   "outputs": [],
   "source": [
    "import pandas as pd\n",
    "import glob\n",
    "import os\n",
    "import matplotlib.pyplot as plt\n",
    "import seaborn as sns"
   ]
  },
  {
   "cell_type": "code",
   "execution_count": 2,
   "id": "9bb078e8-34f1-4353-80db-d23d8919341c",
   "metadata": {},
   "outputs": [],
   "source": [
    "#creating list of file paths\n",
    "folder = './data/'\n",
    "all_files = glob.glob(os.path.join(folder, \"*.csv\"))"
   ]
  },
  {
   "cell_type": "code",
   "execution_count": 3,
   "id": "3a58aed9-e016-4d20-b02d-272ccffb3c2f",
   "metadata": {},
   "outputs": [],
   "source": [
    "# importing all files into dataframes within a list\n",
    "dataframes = []\n",
    "tables = []\n",
    "\n",
    "for file in all_files: \n",
    "    df = pd.read_csv(file,sep=';', parse_dates=['timestamp'])\n",
    "    file = file.split(\"/\")[-1].split('.')[0]\n",
    "    dataframes.append(df)\n",
    "    tables.append(file)"
   ]
  },
  {
   "cell_type": "code",
   "execution_count": 4,
   "id": "8d466721-d604-42e2-b048-393eef008d93",
   "metadata": {},
   "outputs": [],
   "source": [
    "# concatenating all data into one df\n",
    "df = pd.concat(dataframes)"
   ]
  },
  {
   "cell_type": "code",
   "execution_count": 5,
   "id": "8d1b11a2-863c-4a85-8123-9e0d07112652",
   "metadata": {},
   "outputs": [],
   "source": [
    "# creating day name column\n",
    "df['weekday'] = df['timestamp'].dt.day_name()"
   ]
  },
  {
   "cell_type": "code",
   "execution_count": 16,
   "id": "9c74b70c-a024-4dd7-a09f-5c7e71bf4be6",
   "metadata": {},
   "outputs": [],
   "source": [
    "# sorting date by time\n",
    "df.sort_values('timestamp', inplace=True)"
   ]
  },
  {
   "cell_type": "code",
   "execution_count": 7,
   "id": "726bafa9-8739-48d5-a5cd-6194434923ed",
   "metadata": {},
   "outputs": [],
   "source": [
    "# re-indexing to timestamp\n",
    "df.set_index('timestamp', inplace=True)"
   ]
  },
  {
   "cell_type": "code",
   "execution_count": 8,
   "id": "3adb6f52-1470-4694-b36e-ad60abb2a597",
   "metadata": {},
   "outputs": [],
   "source": [
    "# creating hour column\n",
    "df['hour'] = df.index.hour"
   ]
  },
  {
   "cell_type": "code",
   "execution_count": 9,
   "id": "ce42f010-f6cc-41f3-ac5c-0932b506154c",
   "metadata": {},
   "outputs": [
    {
     "data": {
      "text/html": [
       "<div>\n",
       "<style scoped>\n",
       "    .dataframe tbody tr th:only-of-type {\n",
       "        vertical-align: middle;\n",
       "    }\n",
       "\n",
       "    .dataframe tbody tr th {\n",
       "        vertical-align: top;\n",
       "    }\n",
       "\n",
       "    .dataframe thead th {\n",
       "        text-align: right;\n",
       "    }\n",
       "</style>\n",
       "<table border=\"1\" class=\"dataframe\">\n",
       "  <thead>\n",
       "    <tr style=\"text-align: right;\">\n",
       "      <th></th>\n",
       "      <th>customer_no</th>\n",
       "      <th>location</th>\n",
       "      <th>weekday</th>\n",
       "      <th>hour</th>\n",
       "    </tr>\n",
       "    <tr>\n",
       "      <th>timestamp</th>\n",
       "      <th></th>\n",
       "      <th></th>\n",
       "      <th></th>\n",
       "      <th></th>\n",
       "    </tr>\n",
       "  </thead>\n",
       "  <tbody>\n",
       "    <tr>\n",
       "      <th>2019-09-02 07:03:00</th>\n",
       "      <td>2</td>\n",
       "      <td>dairy</td>\n",
       "      <td>Monday</td>\n",
       "      <td>7</td>\n",
       "    </tr>\n",
       "    <tr>\n",
       "      <th>2019-09-02 07:03:00</th>\n",
       "      <td>1</td>\n",
       "      <td>dairy</td>\n",
       "      <td>Monday</td>\n",
       "      <td>7</td>\n",
       "    </tr>\n",
       "  </tbody>\n",
       "</table>\n",
       "</div>"
      ],
      "text/plain": [
       "                     customer_no location weekday  hour\n",
       "timestamp                                              \n",
       "2019-09-02 07:03:00            2    dairy  Monday     7\n",
       "2019-09-02 07:03:00            1    dairy  Monday     7"
      ]
     },
     "execution_count": 9,
     "metadata": {},
     "output_type": "execute_result"
    }
   ],
   "source": [
    "df.head(2)"
   ]
  },
  {
   "cell_type": "code",
   "execution_count": 10,
   "id": "2ebe3454-8446-44dd-a83a-89316b7598b3",
   "metadata": {},
   "outputs": [
    {
     "data": {
      "text/plain": [
       "checkout    7417\n",
       "fruit       5122\n",
       "dairy       4679\n",
       "drinks      3905\n",
       "spices      3754\n",
       "Name: location, dtype: int64"
      ]
     },
     "execution_count": 10,
     "metadata": {},
     "output_type": "execute_result"
    }
   ],
   "source": [
    "# calculating total number of customer in each sections\n",
    "df.location.value_counts()"
   ]
  },
  {
   "cell_type": "code",
   "execution_count": 11,
   "id": "b0187339-9e2f-404e-9434-bb30ab78aa3b",
   "metadata": {},
   "outputs": [
    {
     "data": {
      "text/plain": [
       "Friday       5125\n",
       "Thursday     5104\n",
       "Wednesday    5050\n",
       "Monday       4884\n",
       "Tuesday      4714\n",
       "Name: weekday, dtype: int64"
      ]
     },
     "execution_count": 11,
     "metadata": {},
     "output_type": "execute_result"
    }
   ],
   "source": [
    "# calculating total number of customers for each day\n",
    "df.weekday.value_counts()"
   ]
  },
  {
   "cell_type": "code",
   "execution_count": 17,
   "id": "c5093caa-81f2-4d36-803f-44b575a07acb",
   "metadata": {},
   "outputs": [
    {
     "data": {
      "text/plain": [
       "location  weekday  \n",
       "checkout  Thursday     1532\n",
       "          Wednesday    1526\n",
       "          Friday       1502\n",
       "          Monday       1437\n",
       "          Tuesday      1420\n",
       "fruit     Friday       1057\n",
       "          Wednesday    1043\n",
       "          Thursday     1041\n",
       "          Monday       1005\n",
       "dairy     Wednesday     976\n",
       "fruit     Tuesday       976\n",
       "dairy     Thursday      965\n",
       "          Friday        932\n",
       "          Tuesday       911\n",
       "          Monday        895\n",
       "drinks    Friday        844\n",
       "          Monday        797\n",
       "spices    Thursday      790\n",
       "          Friday        790\n",
       "drinks    Thursday      776\n",
       "          Wednesday     775\n",
       "spices    Monday        750\n",
       "          Wednesday     730\n",
       "drinks    Tuesday       713\n",
       "spices    Tuesday       694\n",
       "dtype: int64"
      ]
     },
     "execution_count": 17,
     "metadata": {},
     "output_type": "execute_result"
    }
   ],
   "source": [
    "# calculating number of customer for each day by location\n",
    "df[['location','weekday']].value_counts()"
   ]
  },
  {
   "cell_type": "code",
   "execution_count": 18,
   "id": "2614d251-8874-4a75-abcc-36357f47acd6",
   "metadata": {},
   "outputs": [
    {
     "data": {
      "text/plain": [
       "array(['dairy', 'fruit', 'spices', 'drinks', 'checkout'], dtype=object)"
      ]
     },
     "execution_count": 18,
     "metadata": {},
     "output_type": "execute_result"
    }
   ],
   "source": [
    "# retrieving all locations in a list -- unclear if required\n",
    "locations = df['location'].unique()\n",
    "locations"
   ]
  },
  {
   "cell_type": "markdown",
   "id": "10d46ca6-a072-4ba7-a531-60cbdbb78ad4",
   "metadata": {},
   "source": [
    "## Plots da"
   ]
  },
  {
   "cell_type": "code",
   "execution_count": 14,
   "id": "c2f11324-747e-4e5d-98e9-346ef00ff7a3",
   "metadata": {},
   "outputs": [
    {
     "data": {
      "image/png": "[encoded data removed]",
      "text/plain": [
       "<Figure size 432x288 with 1 Axes>"
      ]
     },
     "metadata": {
      "needs_background": "light"
     },
     "output_type": "display_data"
    }
   ],
   "source": [
    "# plotting\n",
    "sns.countplot(x=df.location, hue=df.weekday)\n",
    "plt.legend(loc='center left',bbox_to_anchor=(1,0.5),title='weekday',title_fontsize=12); "
   ]
  },
  {
   "cell_type": "code",
   "execution_count": 15,
   "id": "e9cf1804-c21d-4b23-ad85-394adbbda17c",
   "metadata": {},
   "outputs": [
    {
     "data": {
      "image/png": "[encoded data removed]",
      "text/plain": [
       "<Figure size 432x288 with 1 Axes>"
      ]
     },
     "metadata": {
      "needs_background": "light"
     },
     "output_type": "display_data"
    }
   ],
   "source": [
    "sns.countplot(x=df.location, hue=df.hour)\n",
    "plt.legend(loc='center left',bbox_to_anchor=(1,0.5),title='hour',title_fontsize=12);"
   ]
  },
  {
   "cell_type": "code",
   "execution_count": null,
   "id": "e3867310-331c-4b85-9cfe-153d98a82675",
   "metadata": {},
   "outputs": [],
   "source": []
  }
 ],
 "metadata": {
  "kernelspec": {
   "display_name": "Python 3",
   "language": "python",
   "name": "python3"
  },
  "language_info": {
   "codemirror_mode": {
    "name": "ipython",
    "version": 3
   },
   "file_extension": ".py",
   "mimetype": "text/x-python",
   "name": "python",
   "nbconvert_exporter": "python",
   "pygments_lexer": "ipython3",
   "version": "3.8.8"
  }
 },
 "nbformat": 4,
 "nbformat_minor": 5
}
