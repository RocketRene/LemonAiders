{
 "cells": [
  {
   "cell_type": "code",
   "execution_count": 49,
   "id": "39495d97-e162-481f-bbcc-5ce4a0ab635d",
   "metadata": {},
   "outputs": [],
   "source": [
    "import pandas as pd\n",
    "import glob\n",
    "import os\n",
    "import matplotlib.pyplot as plt\n",
    "import seaborn as sns"
   ]
  },
  {
   "cell_type": "code",
   "execution_count": 2,
   "id": "9bb078e8-34f1-4353-80db-d23d8919341c",
   "metadata": {},
   "outputs": [],
   "source": [
    "#creating list of file paths\n",
    "folder = './data/'\n",
    "all_files = glob.glob(os.path.join(folder, \"*.csv\"))"
   ]
  },
  {
   "cell_type": "code",
   "execution_count": 29,
   "id": "3a58aed9-e016-4d20-b02d-272ccffb3c2f",
   "metadata": {},
   "outputs": [],
   "source": [
    "# importing all files into dataframes within a list\n",
    "dataframes = []\n",
    "tables = []\n",
    "\n",
    "for file in all_files: \n",
    "    df = pd.read_csv(file,sep=';', parse_dates=['timestamp'])\n",
    "    file = file.split(\"/\")[-1].split('.')[0]\n",
    "    dataframes.append(df)\n",
    "    tables.append(file)"
   ]
  },
  {
   "cell_type": "code",
   "execution_count": 30,
   "id": "8d466721-d604-42e2-b048-393eef008d93",
   "metadata": {},
   "outputs": [],
   "source": [
    "df = pd.concat(dataframes)"
   ]
  },
  {
   "cell_type": "code",
   "execution_count": 39,
   "id": "b45f19db-53a4-4a69-a826-ae6f2d42106b",
   "metadata": {},
   "outputs": [],
   "source": [
    "df.set_index('timestamp', inplace=True)"
   ]
  },
  {
   "cell_type": "code",
   "execution_count": null,
   "id": "2ebe3454-8446-44dd-a83a-89316b7598b3",
   "metadata": {},
   "outputs": [],
   "source": []
  },
  {
   "cell_type": "code",
   "execution_count": null,
   "id": "2614d251-8874-4a75-abcc-36357f47acd6",
   "metadata": {},
   "outputs": [],
   "source": []
  }
 ],
 "metadata": {
  "kernelspec": {
   "display_name": "Python 3",
   "language": "python",
   "name": "python3"
  },
  "language_info": {
   "codemirror_mode": {
    "name": "ipython",
    "version": 3
   },
   "file_extension": ".py",
   "mimetype": "text/x-python",
   "name": "python",
   "nbconvert_exporter": "python",
   "pygments_lexer": "ipython3",
   "version": "3.8.8"
  }
 },
 "nbformat": 4,
 "nbformat_minor": 5
}
