{
 "cells": [
  {
   "cell_type": "code",
   "execution_count": 2,
   "id": "39495d97-e162-481f-bbcc-5ce4a0ab635d",
   "metadata": {},
   "outputs": [],
   "source": [
    "import pandas as pd\n",
    "import numpy as np\n",
    "import glob\n",
    "import os\n",
    "import matplotlib.pyplot as plt\n",
    "import seaborn as sns"
   ]
  },
  {
   "cell_type": "code",
   "execution_count": 3,
   "id": "9bb078e8-34f1-4353-80db-d23d8919341c",
   "metadata": {},
   "outputs": [],
   "source": [
    "#creating list of file paths\n",
    "folder = './data/'\n",
    "all_files = glob.glob(os.path.join(folder, \"*.csv\"))"
   ]
  },
  {
   "cell_type": "code",
   "execution_count": 4,
   "id": "3a58aed9-e016-4d20-b02d-272ccffb3c2f",
   "metadata": {},
   "outputs": [],
   "source": [
    "# importing all files into dataframes within a list\n",
    "dataframes = []\n",
    "tables = []\n",
    "\n",
    "for file in all_files: \n",
    "    df = pd.read_csv(file,sep=';', parse_dates=['timestamp'])\n",
    "    file = file.split(\"/\")[-1].split('.')[0]\n",
    "    dataframes.append(df)\n",
    "    tables.append(file)"
   ]
  },
  {
   "cell_type": "code",
   "execution_count": 5,
   "id": "8d466721-d604-42e2-b048-393eef008d93",
   "metadata": {},
   "outputs": [],
   "source": [
    "# concatenating all data into one df\n",
    "df = pd.concat(dataframes)"
   ]
  },
  {
   "cell_type": "code",
   "execution_count": 6,
   "id": "8d1b11a2-863c-4a85-8123-9e0d07112652",
   "metadata": {},
   "outputs": [],
   "source": [
    "# creating day name column\n",
    "df['weekday'] = df['timestamp'].dt.day_name()"
   ]
  },
  {
   "cell_type": "code",
   "execution_count": 7,
   "id": "9c74b70c-a024-4dd7-a09f-5c7e71bf4be6",
   "metadata": {},
   "outputs": [],
   "source": [
    "# sorting date by time\n",
    "df.sort_values('timestamp', inplace=True)"
   ]
  },
  {
   "cell_type": "code",
   "execution_count": 8,
   "id": "726bafa9-8739-48d5-a5cd-6194434923ed",
   "metadata": {},
   "outputs": [],
   "source": [
    "# re-indexing to timestamp\n",
    "df.set_index('timestamp', inplace=True)"
   ]
  },
  {
   "cell_type": "code",
   "execution_count": 9,
   "id": "3adb6f52-1470-4694-b36e-ad60abb2a597",
   "metadata": {},
   "outputs": [],
   "source": [
    "# creating hour column\n",
    "df['hour'] = df.index.hour"
   ]
  },
  {
   "cell_type": "code",
   "execution_count": null,
   "id": "a4eb3799-eab6-4053-b60b-1958c44bf1ea",
   "metadata": {},
   "outputs": [],
   "source": []
  },
  {
   "cell_type": "code",
   "execution_count": null,
   "id": "f918521d-bd46-468f-aef6-ab90e2d82006",
   "metadata": {},
   "outputs": [],
   "source": []
  },
  {
   "cell_type": "code",
   "execution_count": 10,
   "id": "ce42f010-f6cc-41f3-ac5c-0932b506154c",
   "metadata": {},
   "outputs": [
    {
     "data": {
      "text/html": [
       "<div>\n",
       "<style scoped>\n",
       "    .dataframe tbody tr th:only-of-type {\n",
       "        vertical-align: middle;\n",
       "    }\n",
       "\n",
       "    .dataframe tbody tr th {\n",
       "        vertical-align: top;\n",
       "    }\n",
       "\n",
       "    .dataframe thead th {\n",
       "        text-align: right;\n",
       "    }\n",
       "</style>\n",
       "<table border=\"1\" class=\"dataframe\">\n",
       "  <thead>\n",
       "    <tr style=\"text-align: right;\">\n",
       "      <th></th>\n",
       "      <th>customer_no</th>\n",
       "      <th>location</th>\n",
       "      <th>weekday</th>\n",
       "      <th>hour</th>\n",
       "    </tr>\n",
       "    <tr>\n",
       "      <th>timestamp</th>\n",
       "      <th></th>\n",
       "      <th></th>\n",
       "      <th></th>\n",
       "      <th></th>\n",
       "    </tr>\n",
       "  </thead>\n",
       "  <tbody>\n",
       "    <tr>\n",
       "      <th>2019-09-02 07:03:00</th>\n",
       "      <td>2</td>\n",
       "      <td>dairy</td>\n",
       "      <td>Monday</td>\n",
       "      <td>7</td>\n",
       "    </tr>\n",
       "    <tr>\n",
       "      <th>2019-09-02 07:03:00</th>\n",
       "      <td>1</td>\n",
       "      <td>dairy</td>\n",
       "      <td>Monday</td>\n",
       "      <td>7</td>\n",
       "    </tr>\n",
       "  </tbody>\n",
       "</table>\n",
       "</div>"
      ],
      "text/plain": [
       "                     customer_no location weekday  hour\n",
       "timestamp                                              \n",
       "2019-09-02 07:03:00            2    dairy  Monday     7\n",
       "2019-09-02 07:03:00            1    dairy  Monday     7"
      ]
     },
     "execution_count": 10,
     "metadata": {},
     "output_type": "execute_result"
    }
   ],
   "source": [
    "df.head(2)"
   ]
  },
  {
   "cell_type": "markdown",
   "id": "69fcce1a-ceb1-4f25-9005-b93f26c1fe91",
   "metadata": {},
   "source": [
    "* Calculate the total number of customers in each section"
   ]
  },
  {
   "cell_type": "code",
   "execution_count": 11,
   "id": "2ebe3454-8446-44dd-a83a-89316b7598b3",
   "metadata": {},
   "outputs": [
    {
     "data": {
      "text/plain": [
       "checkout    7417\n",
       "fruit       5122\n",
       "dairy       4679\n",
       "drinks      3905\n",
       "spices      3754\n",
       "Name: location, dtype: int64"
      ]
     },
     "execution_count": 11,
     "metadata": {},
     "output_type": "execute_result"
    }
   ],
   "source": [
    "# calculating total number of customer in each sections\n",
    "df.location.value_counts()"
   ]
  },
  {
   "cell_type": "markdown",
   "id": "f7708e40-b18c-4958-abad-66008e0abec6",
   "metadata": {},
   "source": [
    "* Calculate the total number of customers in each section over time"
   ]
  },
  {
   "cell_type": "code",
   "execution_count": 12,
   "id": "b0187339-9e2f-404e-9434-bb30ab78aa3b",
   "metadata": {},
   "outputs": [
    {
     "data": {
      "text/plain": [
       "Friday       5125\n",
       "Thursday     5104\n",
       "Wednesday    5050\n",
       "Monday       4884\n",
       "Tuesday      4714\n",
       "Name: weekday, dtype: int64"
      ]
     },
     "execution_count": 12,
     "metadata": {},
     "output_type": "execute_result"
    }
   ],
   "source": [
    "# calculating total number of customers for each day\n",
    "df.weekday.value_counts()"
   ]
  },
  {
   "cell_type": "code",
   "execution_count": 13,
   "id": "c5093caa-81f2-4d36-803f-44b575a07acb",
   "metadata": {},
   "outputs": [
    {
     "data": {
      "text/plain": [
       "location  weekday  \n",
       "checkout  Thursday     1532\n",
       "          Wednesday    1526\n",
       "          Friday       1502\n",
       "          Monday       1437\n",
       "          Tuesday      1420\n",
       "fruit     Friday       1057\n",
       "          Wednesday    1043\n",
       "          Thursday     1041\n",
       "          Monday       1005\n",
       "dairy     Wednesday     976\n",
       "fruit     Tuesday       976\n",
       "dairy     Thursday      965\n",
       "          Friday        932\n",
       "          Tuesday       911\n",
       "          Monday        895\n",
       "drinks    Friday        844\n",
       "          Monday        797\n",
       "spices    Thursday      790\n",
       "          Friday        790\n",
       "drinks    Thursday      776\n",
       "          Wednesday     775\n",
       "spices    Monday        750\n",
       "          Wednesday     730\n",
       "drinks    Tuesday       713\n",
       "spices    Tuesday       694\n",
       "dtype: int64"
      ]
     },
     "execution_count": 13,
     "metadata": {},
     "output_type": "execute_result"
    }
   ],
   "source": [
    "# calculating number of customer for each day by location\n",
    "df[['location','weekday']].value_counts()"
   ]
  },
  {
   "cell_type": "markdown",
   "id": "f26c28e4-4c72-4d2c-8faa-219bd53fda96",
   "metadata": {},
   "source": [
    "* Display the number of customers at checkout over time"
   ]
  },
  {
   "cell_type": "code",
   "execution_count": null,
   "id": "6a278cd9-a701-425a-aace-e478c233e630",
   "metadata": {},
   "outputs": [],
   "source": []
  },
  {
   "cell_type": "code",
   "execution_count": 13,
   "id": "9e7484e7-fb46-46bf-904a-e52a2a99e41b",
   "metadata": {},
   "outputs": [
    {
     "name": "stderr",
     "output_type": "stream",
     "text": [
      "/opt/anaconda3/lib/python3.8/site-packages/seaborn/_decorators.py:36: FutureWarning: Pass the following variables as keyword args: x, y. From version 0.12, the only valid positional argument will be `data`, and passing other arguments without an explicit keyword will result in an error or misinterpretation.\n",
      "  warnings.warn(\n"
     ]
    },
    {
     "data": {
      "image/png": "[encoded data removed]",
      "text/plain": [
       "<Figure size 432x288 with 1 Axes>"
      ]
     },
     "metadata": {
      "needs_background": "light"
     },
     "output_type": "display_data"
    }
   ],
   "source": [
    "x=df.index\n",
    "y=df.hour\n",
    "sns.lineplot(x,y);"
   ]
  },
  {
   "cell_type": "code",
   "execution_count": 14,
   "id": "2614d251-8874-4a75-abcc-36357f47acd6",
   "metadata": {},
   "outputs": [
    {
     "data": {
      "text/plain": [
       "array(['dairy', 'fruit', 'spices', 'checkout', 'drinks'], dtype=object)"
      ]
     },
     "execution_count": 14,
     "metadata": {},
     "output_type": "execute_result"
    }
   ],
   "source": [
    "# retrieving all locations in a list -- unclear if required\n",
    "locations = df['location'].unique()\n",
    "locations"
   ]
  },
  {
   "cell_type": "markdown",
   "id": "5a0552a0-0aeb-4ec5-8471-bfd8178afeaf",
   "metadata": {},
   "source": [
    "* Calculate the time each customer spent in the market"
   ]
  },
  {
   "cell_type": "code",
   "execution_count": null,
   "id": "d10d4e16-cdd8-4123-996b-5f4150045046",
   "metadata": {},
   "outputs": [],
   "source": []
  },
  {
   "cell_type": "markdown",
   "id": "ede5f382-502b-4c8b-a07b-c6c6d2827919",
   "metadata": {},
   "source": [
    "* Calculate the total number of customers in the supermarket over time."
   ]
  },
  {
   "cell_type": "code",
   "execution_count": null,
   "id": "7501fbf6-30ec-40ea-ae94-f56a0dc471ac",
   "metadata": {},
   "outputs": [],
   "source": []
  },
  {
   "cell_type": "markdown",
   "id": "a7a3957a-574e-4f44-8136-80fa06b3909f",
   "metadata": {},
   "source": [
    "* Our business managers think that the first section customers visit follows a different pattern than the following ones. "
   ]
  },
  {
   "cell_type": "code",
   "execution_count": null,
   "id": "3d2752c2-7679-4a3b-b0ce-01d544a955c0",
   "metadata": {},
   "outputs": [],
   "source": []
  },
  {
   "cell_type": "markdown",
   "id": "7225ef3d-856e-4a24-944b-c0bea571fd48",
   "metadata": {
    "tags": []
   },
   "source": [
    "* Plot the distribution of customers of their first visited section versus following sections (treat all sections visited after the first as “following”)."
   ]
  },
  {
   "cell_type": "code",
   "execution_count": null,
   "id": "d7c6b336-593f-412f-aa26-a5baf2f2fa47",
   "metadata": {},
   "outputs": [],
   "source": []
  },
  {
   "cell_type": "markdown",
   "id": "10d46ca6-a072-4ba7-a531-60cbdbb78ad4",
   "metadata": {},
   "source": [
    "## Plots da"
   ]
  },
  {
   "cell_type": "code",
   "execution_count": 15,
   "id": "c2f11324-747e-4e5d-98e9-346ef00ff7a3",
   "metadata": {},
   "outputs": [
    {
     "data": {
      "image/png": "[encoded data removed]",
      "text/plain": [
       "<Figure size 432x288 with 1 Axes>"
      ]
     },
     "metadata": {
      "needs_background": "light"
     },
     "output_type": "display_data"
    }
   ],
   "source": [
    "# plotting number of customer in each section for each day\n",
    "sns.countplot(x=df.location, hue=df.weekday)\n",
    "plt.legend(loc='center left',bbox_to_anchor=(1,0.5),title='weekday',title_fontsize=12); "
   ]
  },
  {
   "cell_type": "code",
   "execution_count": 16,
   "id": "e9cf1804-c21d-4b23-ad85-394adbbda17c",
   "metadata": {},
   "outputs": [
    {
     "data": {
      "image/png": "[encoded data removed]",
      "text/plain": [
       "<Figure size 432x288 with 1 Axes>"
      ]
     },
     "metadata": {
      "needs_background": "light"
     },
     "output_type": "display_data"
    }
   ],
   "source": [
    "# plotting number of customers in each section per hour\n",
    "sns.countplot(x=df.location, hue=df.hour)\n",
    "plt.legend(loc='center left',bbox_to_anchor=(1,0.5),title='hour',title_fontsize=12);"
   ]
  },
  {
   "cell_type": "code",
   "execution_count": 17,
   "id": "e3867310-331c-4b85-9cfe-153d98a82675",
   "metadata": {},
   "outputs": [
    {
     "data": {
      "text/html": [
       "<div>\n",
       "<style scoped>\n",
       "    .dataframe tbody tr th:only-of-type {\n",
       "        vertical-align: middle;\n",
       "    }\n",
       "\n",
       "    .dataframe tbody tr th {\n",
       "        vertical-align: top;\n",
       "    }\n",
       "\n",
       "    .dataframe thead th {\n",
       "        text-align: right;\n",
       "    }\n",
       "</style>\n",
       "<table border=\"1\" class=\"dataframe\">\n",
       "  <thead>\n",
       "    <tr style=\"text-align: right;\">\n",
       "      <th></th>\n",
       "      <th>customer_no</th>\n",
       "      <th>location</th>\n",
       "      <th>weekday</th>\n",
       "      <th>hour</th>\n",
       "    </tr>\n",
       "    <tr>\n",
       "      <th>timestamp</th>\n",
       "      <th></th>\n",
       "      <th></th>\n",
       "      <th></th>\n",
       "      <th></th>\n",
       "    </tr>\n",
       "  </thead>\n",
       "  <tbody>\n",
       "    <tr>\n",
       "      <th>2019-09-02 07:03:00</th>\n",
       "      <td>2</td>\n",
       "      <td>dairy</td>\n",
       "      <td>Monday</td>\n",
       "      <td>7</td>\n",
       "    </tr>\n",
       "    <tr>\n",
       "      <th>2019-09-02 07:03:00</th>\n",
       "      <td>1</td>\n",
       "      <td>dairy</td>\n",
       "      <td>Monday</td>\n",
       "      <td>7</td>\n",
       "    </tr>\n",
       "    <tr>\n",
       "      <th>2019-09-02 07:04:00</th>\n",
       "      <td>3</td>\n",
       "      <td>dairy</td>\n",
       "      <td>Monday</td>\n",
       "      <td>7</td>\n",
       "    </tr>\n",
       "    <tr>\n",
       "      <th>2019-09-02 07:04:00</th>\n",
       "      <td>8</td>\n",
       "      <td>fruit</td>\n",
       "      <td>Monday</td>\n",
       "      <td>7</td>\n",
       "    </tr>\n",
       "    <tr>\n",
       "      <th>2019-09-02 07:04:00</th>\n",
       "      <td>4</td>\n",
       "      <td>dairy</td>\n",
       "      <td>Monday</td>\n",
       "      <td>7</td>\n",
       "    </tr>\n",
       "    <tr>\n",
       "      <th>...</th>\n",
       "      <td>...</td>\n",
       "      <td>...</td>\n",
       "      <td>...</td>\n",
       "      <td>...</td>\n",
       "    </tr>\n",
       "    <tr>\n",
       "      <th>2019-09-06 21:50:00</th>\n",
       "      <td>1507</td>\n",
       "      <td>checkout</td>\n",
       "      <td>Friday</td>\n",
       "      <td>21</td>\n",
       "    </tr>\n",
       "    <tr>\n",
       "      <th>2019-09-06 21:50:00</th>\n",
       "      <td>1509</td>\n",
       "      <td>drinks</td>\n",
       "      <td>Friday</td>\n",
       "      <td>21</td>\n",
       "    </tr>\n",
       "    <tr>\n",
       "      <th>2019-09-06 21:50:00</th>\n",
       "      <td>1496</td>\n",
       "      <td>fruit</td>\n",
       "      <td>Friday</td>\n",
       "      <td>21</td>\n",
       "    </tr>\n",
       "    <tr>\n",
       "      <th>2019-09-06 21:50:00</th>\n",
       "      <td>1500</td>\n",
       "      <td>dairy</td>\n",
       "      <td>Friday</td>\n",
       "      <td>21</td>\n",
       "    </tr>\n",
       "    <tr>\n",
       "      <th>2019-09-06 21:50:00</th>\n",
       "      <td>1510</td>\n",
       "      <td>spices</td>\n",
       "      <td>Friday</td>\n",
       "      <td>21</td>\n",
       "    </tr>\n",
       "  </tbody>\n",
       "</table>\n",
       "<p>24877 rows × 4 columns</p>\n",
       "</div>"
      ],
      "text/plain": [
       "                     customer_no  location weekday  hour\n",
       "timestamp                                               \n",
       "2019-09-02 07:03:00            2     dairy  Monday     7\n",
       "2019-09-02 07:03:00            1     dairy  Monday     7\n",
       "2019-09-02 07:04:00            3     dairy  Monday     7\n",
       "2019-09-02 07:04:00            8     fruit  Monday     7\n",
       "2019-09-02 07:04:00            4     dairy  Monday     7\n",
       "...                          ...       ...     ...   ...\n",
       "2019-09-06 21:50:00         1507  checkout  Friday    21\n",
       "2019-09-06 21:50:00         1509    drinks  Friday    21\n",
       "2019-09-06 21:50:00         1496     fruit  Friday    21\n",
       "2019-09-06 21:50:00         1500     dairy  Friday    21\n",
       "2019-09-06 21:50:00         1510    spices  Friday    21\n",
       "\n",
       "[24877 rows x 4 columns]"
      ]
     },
     "execution_count": 17,
     "metadata": {},
     "output_type": "execute_result"
    }
   ],
   "source": [
    "df"
   ]
  },
  {
   "cell_type": "code",
   "execution_count": 18,
   "id": "cad635d5-6584-4a65-b67e-c629943bc97d",
   "metadata": {},
   "outputs": [],
   "source": [
    "df['day']=df.index.day"
   ]
  },
  {
   "cell_type": "code",
   "execution_count": 19,
   "id": "ccdc6cfb-8861-495c-ac4a-67e047de8c2f",
   "metadata": {},
   "outputs": [],
   "source": [
    "df['day_customer']=df['day'].astype(str)+'_'+df['customer_no'].astype(str)"
   ]
  },
  {
   "cell_type": "code",
   "execution_count": 20,
   "id": "dde97a52-f633-4357-9152-3ff19a7558fe",
   "metadata": {
    "tags": []
   },
   "outputs": [],
   "source": [
    "df=df.sort_values(by=['day_customer','timestamp'])"
   ]
  },
  {
   "cell_type": "code",
   "execution_count": 21,
   "id": "c0694fdf-53c4-4bf0-a745-3f0558142e2c",
   "metadata": {},
   "outputs": [],
   "source": [
    "df['after']=df['location'].shift(-1)"
   ]
  },
  {
   "cell_type": "code",
   "execution_count": 22,
   "id": "b6e484be-2050-45d5-abe6-c4fc7e364704",
   "metadata": {},
   "outputs": [
    {
     "data": {
      "text/html": [
       "<div>\n",
       "<style scoped>\n",
       "    .dataframe tbody tr th:only-of-type {\n",
       "        vertical-align: middle;\n",
       "    }\n",
       "\n",
       "    .dataframe tbody tr th {\n",
       "        vertical-align: top;\n",
       "    }\n",
       "\n",
       "    .dataframe thead th {\n",
       "        text-align: right;\n",
       "    }\n",
       "</style>\n",
       "<table border=\"1\" class=\"dataframe\">\n",
       "  <thead>\n",
       "    <tr style=\"text-align: right;\">\n",
       "      <th></th>\n",
       "      <th>customer_no</th>\n",
       "      <th>location</th>\n",
       "      <th>weekday</th>\n",
       "      <th>hour</th>\n",
       "      <th>day</th>\n",
       "      <th>day_customer</th>\n",
       "      <th>after</th>\n",
       "    </tr>\n",
       "    <tr>\n",
       "      <th>timestamp</th>\n",
       "      <th></th>\n",
       "      <th></th>\n",
       "      <th></th>\n",
       "      <th></th>\n",
       "      <th></th>\n",
       "      <th></th>\n",
       "      <th></th>\n",
       "    </tr>\n",
       "  </thead>\n",
       "  <tbody>\n",
       "    <tr>\n",
       "      <th>2019-09-02 07:03:00</th>\n",
       "      <td>1</td>\n",
       "      <td>dairy</td>\n",
       "      <td>Monday</td>\n",
       "      <td>7</td>\n",
       "      <td>2</td>\n",
       "      <td>2_1</td>\n",
       "      <td>checkout</td>\n",
       "    </tr>\n",
       "    <tr>\n",
       "      <th>2019-09-02 07:05:00</th>\n",
       "      <td>1</td>\n",
       "      <td>checkout</td>\n",
       "      <td>Monday</td>\n",
       "      <td>7</td>\n",
       "      <td>2</td>\n",
       "      <td>2_1</td>\n",
       "      <td>fruit</td>\n",
       "    </tr>\n",
       "    <tr>\n",
       "      <th>2019-09-02 07:06:00</th>\n",
       "      <td>10</td>\n",
       "      <td>fruit</td>\n",
       "      <td>Monday</td>\n",
       "      <td>7</td>\n",
       "      <td>2</td>\n",
       "      <td>2_10</td>\n",
       "      <td>checkout</td>\n",
       "    </tr>\n",
       "    <tr>\n",
       "      <th>2019-09-02 07:08:00</th>\n",
       "      <td>10</td>\n",
       "      <td>checkout</td>\n",
       "      <td>Monday</td>\n",
       "      <td>7</td>\n",
       "      <td>2</td>\n",
       "      <td>2_10</td>\n",
       "      <td>drinks</td>\n",
       "    </tr>\n",
       "    <tr>\n",
       "      <th>2019-09-02 07:56:00</th>\n",
       "      <td>100</td>\n",
       "      <td>drinks</td>\n",
       "      <td>Monday</td>\n",
       "      <td>7</td>\n",
       "      <td>2</td>\n",
       "      <td>2_100</td>\n",
       "      <td>checkout</td>\n",
       "    </tr>\n",
       "    <tr>\n",
       "      <th>...</th>\n",
       "      <td>...</td>\n",
       "      <td>...</td>\n",
       "      <td>...</td>\n",
       "      <td>...</td>\n",
       "      <td>...</td>\n",
       "      <td>...</td>\n",
       "      <td>...</td>\n",
       "    </tr>\n",
       "    <tr>\n",
       "      <th>2019-09-06 17:20:00</th>\n",
       "      <td>999</td>\n",
       "      <td>drinks</td>\n",
       "      <td>Friday</td>\n",
       "      <td>17</td>\n",
       "      <td>6</td>\n",
       "      <td>6_999</td>\n",
       "      <td>fruit</td>\n",
       "    </tr>\n",
       "    <tr>\n",
       "      <th>2019-09-06 17:21:00</th>\n",
       "      <td>999</td>\n",
       "      <td>fruit</td>\n",
       "      <td>Friday</td>\n",
       "      <td>17</td>\n",
       "      <td>6</td>\n",
       "      <td>6_999</td>\n",
       "      <td>drinks</td>\n",
       "    </tr>\n",
       "    <tr>\n",
       "      <th>2019-09-06 17:24:00</th>\n",
       "      <td>999</td>\n",
       "      <td>drinks</td>\n",
       "      <td>Friday</td>\n",
       "      <td>17</td>\n",
       "      <td>6</td>\n",
       "      <td>6_999</td>\n",
       "      <td>fruit</td>\n",
       "    </tr>\n",
       "    <tr>\n",
       "      <th>2019-09-06 17:25:00</th>\n",
       "      <td>999</td>\n",
       "      <td>fruit</td>\n",
       "      <td>Friday</td>\n",
       "      <td>17</td>\n",
       "      <td>6</td>\n",
       "      <td>6_999</td>\n",
       "      <td>checkout</td>\n",
       "    </tr>\n",
       "    <tr>\n",
       "      <th>2019-09-06 17:27:00</th>\n",
       "      <td>999</td>\n",
       "      <td>checkout</td>\n",
       "      <td>Friday</td>\n",
       "      <td>17</td>\n",
       "      <td>6</td>\n",
       "      <td>6_999</td>\n",
       "      <td>NaN</td>\n",
       "    </tr>\n",
       "  </tbody>\n",
       "</table>\n",
       "<p>24877 rows × 7 columns</p>\n",
       "</div>"
      ],
      "text/plain": [
       "                     customer_no  location weekday  hour  day day_customer  \\\n",
       "timestamp                                                                    \n",
       "2019-09-02 07:03:00            1     dairy  Monday     7    2          2_1   \n",
       "2019-09-02 07:05:00            1  checkout  Monday     7    2          2_1   \n",
       "2019-09-02 07:06:00           10     fruit  Monday     7    2         2_10   \n",
       "2019-09-02 07:08:00           10  checkout  Monday     7    2         2_10   \n",
       "2019-09-02 07:56:00          100    drinks  Monday     7    2        2_100   \n",
       "...                          ...       ...     ...   ...  ...          ...   \n",
       "2019-09-06 17:20:00          999    drinks  Friday    17    6        6_999   \n",
       "2019-09-06 17:21:00          999     fruit  Friday    17    6        6_999   \n",
       "2019-09-06 17:24:00          999    drinks  Friday    17    6        6_999   \n",
       "2019-09-06 17:25:00          999     fruit  Friday    17    6        6_999   \n",
       "2019-09-06 17:27:00          999  checkout  Friday    17    6        6_999   \n",
       "\n",
       "                        after  \n",
       "timestamp                      \n",
       "2019-09-02 07:03:00  checkout  \n",
       "2019-09-02 07:05:00     fruit  \n",
       "2019-09-02 07:06:00  checkout  \n",
       "2019-09-02 07:08:00    drinks  \n",
       "2019-09-02 07:56:00  checkout  \n",
       "...                       ...  \n",
       "2019-09-06 17:20:00     fruit  \n",
       "2019-09-06 17:21:00    drinks  \n",
       "2019-09-06 17:24:00     fruit  \n",
       "2019-09-06 17:25:00  checkout  \n",
       "2019-09-06 17:27:00       NaN  \n",
       "\n",
       "[24877 rows x 7 columns]"
      ]
     },
     "execution_count": 22,
     "metadata": {},
     "output_type": "execute_result"
    }
   ],
   "source": [
    "df"
   ]
  },
  {
   "cell_type": "code",
   "execution_count": 23,
   "id": "da4ebaad-9c5a-4529-ae5c-5a01b8df15d3",
   "metadata": {},
   "outputs": [
    {
     "data": {
      "text/html": [
       "<div>\n",
       "<style scoped>\n",
       "    .dataframe tbody tr th:only-of-type {\n",
       "        vertical-align: middle;\n",
       "    }\n",
       "\n",
       "    .dataframe tbody tr th {\n",
       "        vertical-align: top;\n",
       "    }\n",
       "\n",
       "    .dataframe thead th {\n",
       "        text-align: right;\n",
       "    }\n",
       "</style>\n",
       "<table border=\"1\" class=\"dataframe\">\n",
       "  <thead>\n",
       "    <tr style=\"text-align: right;\">\n",
       "      <th>location</th>\n",
       "      <th>checkout</th>\n",
       "      <th>dairy</th>\n",
       "      <th>drinks</th>\n",
       "      <th>fruit</th>\n",
       "      <th>spices</th>\n",
       "    </tr>\n",
       "    <tr>\n",
       "      <th>after</th>\n",
       "      <th></th>\n",
       "      <th></th>\n",
       "      <th></th>\n",
       "      <th></th>\n",
       "      <th></th>\n",
       "    </tr>\n",
       "  </thead>\n",
       "  <tbody>\n",
       "    <tr>\n",
       "      <th>checkout</th>\n",
       "      <td>0</td>\n",
       "      <td>1825</td>\n",
       "      <td>2096</td>\n",
       "      <td>2555</td>\n",
       "      <td>941</td>\n",
       "    </tr>\n",
       "    <tr>\n",
       "      <th>dairy</th>\n",
       "      <td>2132</td>\n",
       "      <td>5</td>\n",
       "      <td>107</td>\n",
       "      <td>1219</td>\n",
       "      <td>1215</td>\n",
       "    </tr>\n",
       "    <tr>\n",
       "      <th>drinks</th>\n",
       "      <td>1137</td>\n",
       "      <td>1042</td>\n",
       "      <td>0</td>\n",
       "      <td>702</td>\n",
       "      <td>1024</td>\n",
       "    </tr>\n",
       "    <tr>\n",
       "      <th>fruit</th>\n",
       "      <td>2801</td>\n",
       "      <td>890</td>\n",
       "      <td>856</td>\n",
       "      <td>2</td>\n",
       "      <td>573</td>\n",
       "    </tr>\n",
       "    <tr>\n",
       "      <th>spices</th>\n",
       "      <td>1346</td>\n",
       "      <td>917</td>\n",
       "      <td>846</td>\n",
       "      <td>644</td>\n",
       "      <td>1</td>\n",
       "    </tr>\n",
       "  </tbody>\n",
       "</table>\n",
       "</div>"
      ],
      "text/plain": [
       "location  checkout  dairy  drinks  fruit  spices\n",
       "after                                           \n",
       "checkout         0   1825    2096   2555     941\n",
       "dairy         2132      5     107   1219    1215\n",
       "drinks        1137   1042       0    702    1024\n",
       "fruit         2801    890     856      2     573\n",
       "spices        1346    917     846    644       1"
      ]
     },
     "execution_count": 23,
     "metadata": {},
     "output_type": "execute_result"
    }
   ],
   "source": [
    "pd.crosstab(df.after, df.location)"
   ]
  },
  {
   "cell_type": "code",
   "execution_count": 24,
   "id": "2b194e9c-bdfa-4839-baad-7f40b36f2138",
   "metadata": {},
   "outputs": [],
   "source": [
    "trans_prob = pd.crosstab(df.after, df.location, normalize=1)"
   ]
  },
  {
   "cell_type": "code",
   "execution_count": 26,
   "id": "563e357e-f816-4434-a5bd-8436160db8ee",
   "metadata": {},
   "outputs": [],
   "source": [
    "# trans_prob.to_csv('trans_prob.csv')"
   ]
  },
  {
   "cell_type": "code",
   "execution_count": null,
   "id": "f5e349fa-33e2-4efe-810f-3f1301689cd5",
   "metadata": {},
   "outputs": [],
   "source": []
  }
 ],
 "metadata": {
  "kernelspec": {
   "display_name": "Python 3",
   "language": "python",
   "name": "python3"
  },
  "language_info": {
   "codemirror_mode": {
    "name": "ipython",
    "version": 3
   },
   "file_extension": ".py",
   "mimetype": "text/x-python",
   "name": "python",
   "nbconvert_exporter": "python",
   "pygments_lexer": "ipython3",
   "version": "3.8.8"
  }
 },
 "nbformat": 4,
 "nbformat_minor": 5
}
