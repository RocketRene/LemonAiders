{
 "cells": [
  {
   "cell_type": "markdown",
   "id": "c3bce908",
   "metadata": {},
   "source": [
    "#  Project: Markov Simulation"
   ]
  },
  {
   "cell_type": "markdown",
   "id": "04062bf0",
   "metadata": {},
   "source": [
    "## 1. EDA the supermarket data\n",
    "    In this part, the following tasks need to be performed:\n",
    "    \n",
    "    \"\n",
    "    1.Calculate the total number of customers in each section\n",
    "\n",
    "    2.Calculate the total number of customers in each section over time\n",
    "\n",
    "    3.Display the number of customers at checkout over time\n",
    "\n",
    "    4.Calculate the time each customer spent in the market\n",
    "\n",
    "    5.Calculate the total number of customers in the supermarket over time.\n",
    "\n",
    "    6. Our business managers think that the first section customers visit follows a different pattern than the following ones. Plot the distribution of customers of their first visited section versus following sections (treat all sections visited after the first as “following”).\n",
    "    \"\n"
   ]
  },
  {
   "cell_type": "code",
   "execution_count": 1,
   "id": "30e46acf",
   "metadata": {},
   "outputs": [],
   "source": [
    "import pandas as pd\n",
    "import os"
   ]
  },
  {
   "cell_type": "code",
   "execution_count": 4,
   "id": "80dbcb6d",
   "metadata": {},
   "outputs": [
    {
     "data": {
      "text/plain": [
       "'C:\\\\Users\\\\zhang\\\\spiced_bootcamp\\\\LemonAiders'"
      ]
     },
     "execution_count": 4,
     "metadata": {},
     "output_type": "execute_result"
    }
   ],
   "source": [
    "pwd()"
   ]
  },
  {
   "cell_type": "code",
   "execution_count": 5,
   "id": "28199a92",
   "metadata": {},
   "outputs": [],
   "source": [
    "#get the full data\n",
    "\n",
    "def eda_data(filepath):\n",
    "    import os\n",
    "    f=os.listdir(filepath)\n",
    "    dff=pd.DataFrame(columns=['timestamp', 'location', 'customer_id'])\n",
    "    for i in f:\n",
    "        df=pd.read_csv(f'./data/{i}',delimiter=';',parse_dates=True)\n",
    "        #change timestamp to datatime\n",
    "        df['timestamp'] = pd.to_datetime(df['timestamp'])\n",
    "        #set timestamp as index\n",
    "        df.set_index('timestamp',drop=True, inplace=True)\n",
    "        df['day']=df.index.day\n",
    "        #change data type of customer_no\n",
    "        df[['customer_no','day']]=df[['customer_no','day']].astype('string')\n",
    "        #generate uni customer_id for every customer in 5 days.\n",
    "        df['customer_id']=df['day']+df['customer_no']\n",
    "        df.drop(['customer_no','day'],axis=1, inplace =True)\n",
    "        df.reset_index(inplace=True)\n",
    "        dff=pd.concat([dff,df])\n",
    "    dff.set_index('timestamp',drop=True, inplace=True)\n",
    "    return dff\n",
    "\n"
   ]
  },
  {
   "cell_type": "code",
   "execution_count": 8,
   "id": "ffb9cad1",
   "metadata": {},
   "outputs": [],
   "source": [
    "\n",
    "# list all the files in the folder\n",
    "\n",
    "filepath = './data/'\n",
    "df=eda_data(filepath)"
   ]
  },
  {
   "cell_type": "code",
   "execution_count": 9,
   "id": "06654631",
   "metadata": {},
   "outputs": [
    {
     "data": {
      "text/plain": [
       "array(['dairy', 'drinks', 'fruit', 'checkout', 'spices'], dtype=object)"
      ]
     },
     "execution_count": 9,
     "metadata": {},
     "output_type": "execute_result"
    }
   ],
   "source": [
    "# explore the unique value in column 'location'\n",
    "df['location'].unique()"
   ]
  },
  {
   "cell_type": "code",
   "execution_count": 11,
   "id": "fd8dbf8f",
   "metadata": {},
   "outputs": [
    {
     "data": {
      "text/html": [
       "<div>\n",
       "<style scoped>\n",
       "    .dataframe tbody tr th:only-of-type {\n",
       "        vertical-align: middle;\n",
       "    }\n",
       "\n",
       "    .dataframe tbody tr th {\n",
       "        vertical-align: top;\n",
       "    }\n",
       "\n",
       "    .dataframe thead th {\n",
       "        text-align: right;\n",
       "    }\n",
       "</style>\n",
       "<table border=\"1\" class=\"dataframe\">\n",
       "  <thead>\n",
       "    <tr style=\"text-align: right;\">\n",
       "      <th></th>\n",
       "      <th>location</th>\n",
       "      <th>customer_id</th>\n",
       "    </tr>\n",
       "    <tr>\n",
       "      <th>timestamp</th>\n",
       "      <th></th>\n",
       "      <th></th>\n",
       "    </tr>\n",
       "  </thead>\n",
       "  <tbody>\n",
       "    <tr>\n",
       "      <th>2019-09-06 07:00:00</th>\n",
       "      <td>dairy</td>\n",
       "      <td>61</td>\n",
       "    </tr>\n",
       "    <tr>\n",
       "      <th>2019-09-06 07:00:00</th>\n",
       "      <td>drinks</td>\n",
       "      <td>62</td>\n",
       "    </tr>\n",
       "    <tr>\n",
       "      <th>2019-09-06 07:00:00</th>\n",
       "      <td>fruit</td>\n",
       "      <td>63</td>\n",
       "    </tr>\n",
       "    <tr>\n",
       "      <th>2019-09-06 07:01:00</th>\n",
       "      <td>checkout</td>\n",
       "      <td>62</td>\n",
       "    </tr>\n",
       "    <tr>\n",
       "      <th>2019-09-06 07:01:00</th>\n",
       "      <td>drinks</td>\n",
       "      <td>64</td>\n",
       "    </tr>\n",
       "    <tr>\n",
       "      <th>...</th>\n",
       "      <td>...</td>\n",
       "      <td>...</td>\n",
       "    </tr>\n",
       "    <tr>\n",
       "      <th>2019-09-04 21:48:00</th>\n",
       "      <td>spices</td>\n",
       "      <td>41528</td>\n",
       "    </tr>\n",
       "    <tr>\n",
       "      <th>2019-09-04 21:49:00</th>\n",
       "      <td>dairy</td>\n",
       "      <td>41520</td>\n",
       "    </tr>\n",
       "    <tr>\n",
       "      <th>2019-09-04 21:49:00</th>\n",
       "      <td>dairy</td>\n",
       "      <td>41529</td>\n",
       "    </tr>\n",
       "    <tr>\n",
       "      <th>2019-09-04 21:49:00</th>\n",
       "      <td>fruit</td>\n",
       "      <td>41530</td>\n",
       "    </tr>\n",
       "    <tr>\n",
       "      <th>2019-09-04 21:49:00</th>\n",
       "      <td>checkout</td>\n",
       "      <td>41531</td>\n",
       "    </tr>\n",
       "  </tbody>\n",
       "</table>\n",
       "<p>24877 rows × 2 columns</p>\n",
       "</div>"
      ],
      "text/plain": [
       "                     location customer_id\n",
       "timestamp                                \n",
       "2019-09-06 07:00:00     dairy          61\n",
       "2019-09-06 07:00:00    drinks          62\n",
       "2019-09-06 07:00:00     fruit          63\n",
       "2019-09-06 07:01:00  checkout          62\n",
       "2019-09-06 07:01:00    drinks          64\n",
       "...                       ...         ...\n",
       "2019-09-04 21:48:00    spices       41528\n",
       "2019-09-04 21:49:00     dairy       41520\n",
       "2019-09-04 21:49:00     dairy       41529\n",
       "2019-09-04 21:49:00     fruit       41530\n",
       "2019-09-04 21:49:00  checkout       41531\n",
       "\n",
       "[24877 rows x 2 columns]"
      ]
     },
     "execution_count": 11,
     "metadata": {},
     "output_type": "execute_result"
    }
   ],
   "source": [
    "df"
   ]
  },
  {
   "cell_type": "code",
   "execution_count": 22,
   "id": "da0256e8",
   "metadata": {},
   "outputs": [],
   "source": [
    "#add new column as 'hour'\n",
    "df['hour']=df.index.hour"
   ]
  },
  {
   "cell_type": "code",
   "execution_count": 24,
   "id": "53053c15",
   "metadata": {},
   "outputs": [],
   "source": [
    "#add new column as 'day'\n",
    "df['day']=df.index.day"
   ]
  },
  {
   "cell_type": "code",
   "execution_count": 29,
   "id": "bc0b1af2",
   "metadata": {},
   "outputs": [
    {
     "data": {
      "text/plain": [
       "Index(['location', 'customer_id', 'hour', 'day'], dtype='object')"
      ]
     },
     "execution_count": 29,
     "metadata": {},
     "output_type": "execute_result"
    }
   ],
   "source": [
    "df.columns\n"
   ]
  },
  {
   "cell_type": "code",
   "execution_count": 44,
   "id": "7db7364e",
   "metadata": {},
   "outputs": [],
   "source": [
    "#Calculate the total number of customers in each section\n",
    "#example of groupby function: df.groupby(\"Sex\").agg({\"Survived\":np.sum, \"Age\":np.mean, \"Fare\":np.mean})\n",
    "df_g_l=df.groupby('location')['customer_id'].count()"
   ]
  },
  {
   "cell_type": "code",
   "execution_count": 45,
   "id": "d8d0ba21",
   "metadata": {},
   "outputs": [
    {
     "data": {
      "text/plain": [
       "location\n",
       "checkout    7417\n",
       "dairy       4679\n",
       "drinks      3905\n",
       "fruit       5122\n",
       "spices      3754\n",
       "Name: customer_id, dtype: int64"
      ]
     },
     "execution_count": 45,
     "metadata": {},
     "output_type": "execute_result"
    }
   ],
   "source": [
    "df_g_l"
   ]
  },
  {
   "cell_type": "code",
   "execution_count": 50,
   "id": "9925e753",
   "metadata": {},
   "outputs": [],
   "source": [
    "df_ot=df.groupby(['location','hour'])['customer_id'].count()"
   ]
  },
  {
   "cell_type": "code",
   "execution_count": 51,
   "id": "f12d50a0",
   "metadata": {},
   "outputs": [
    {
     "data": {
      "text/plain": [
       "location  hour\n",
       "checkout  7       454\n",
       "          8       677\n",
       "          9       455\n",
       "          10      427\n",
       "          11      342\n",
       "                 ... \n",
       "spices    17      269\n",
       "          18      346\n",
       "          19      389\n",
       "          20      246\n",
       "          21      122\n",
       "Name: customer_id, Length: 75, dtype: int64"
      ]
     },
     "execution_count": 51,
     "metadata": {},
     "output_type": "execute_result"
    }
   ],
   "source": [
    "df_ot"
   ]
  },
  {
   "cell_type": "code",
   "execution_count": 54,
   "id": "0b259e70",
   "metadata": {},
   "outputs": [],
   "source": [
    "df_otf=df.groupby(['location','hour'])['customer_id'].count().to_frame().reset_index()"
   ]
  },
  {
   "cell_type": "code",
   "execution_count": 55,
   "id": "4c38f655",
   "metadata": {},
   "outputs": [
    {
     "data": {
      "text/html": [
       "<div>\n",
       "<style scoped>\n",
       "    .dataframe tbody tr th:only-of-type {\n",
       "        vertical-align: middle;\n",
       "    }\n",
       "\n",
       "    .dataframe tbody tr th {\n",
       "        vertical-align: top;\n",
       "    }\n",
       "\n",
       "    .dataframe thead th {\n",
       "        text-align: right;\n",
       "    }\n",
       "</style>\n",
       "<table border=\"1\" class=\"dataframe\">\n",
       "  <thead>\n",
       "    <tr style=\"text-align: right;\">\n",
       "      <th></th>\n",
       "      <th>location</th>\n",
       "      <th>hour</th>\n",
       "      <th>customer_id</th>\n",
       "    </tr>\n",
       "  </thead>\n",
       "  <tbody>\n",
       "    <tr>\n",
       "      <th>0</th>\n",
       "      <td>checkout</td>\n",
       "      <td>7</td>\n",
       "      <td>454</td>\n",
       "    </tr>\n",
       "    <tr>\n",
       "      <th>1</th>\n",
       "      <td>checkout</td>\n",
       "      <td>8</td>\n",
       "      <td>677</td>\n",
       "    </tr>\n",
       "    <tr>\n",
       "      <th>2</th>\n",
       "      <td>checkout</td>\n",
       "      <td>9</td>\n",
       "      <td>455</td>\n",
       "    </tr>\n",
       "    <tr>\n",
       "      <th>3</th>\n",
       "      <td>checkout</td>\n",
       "      <td>10</td>\n",
       "      <td>427</td>\n",
       "    </tr>\n",
       "    <tr>\n",
       "      <th>4</th>\n",
       "      <td>checkout</td>\n",
       "      <td>11</td>\n",
       "      <td>342</td>\n",
       "    </tr>\n",
       "    <tr>\n",
       "      <th>...</th>\n",
       "      <td>...</td>\n",
       "      <td>...</td>\n",
       "      <td>...</td>\n",
       "    </tr>\n",
       "    <tr>\n",
       "      <th>70</th>\n",
       "      <td>spices</td>\n",
       "      <td>17</td>\n",
       "      <td>269</td>\n",
       "    </tr>\n",
       "    <tr>\n",
       "      <th>71</th>\n",
       "      <td>spices</td>\n",
       "      <td>18</td>\n",
       "      <td>346</td>\n",
       "    </tr>\n",
       "    <tr>\n",
       "      <th>72</th>\n",
       "      <td>spices</td>\n",
       "      <td>19</td>\n",
       "      <td>389</td>\n",
       "    </tr>\n",
       "    <tr>\n",
       "      <th>73</th>\n",
       "      <td>spices</td>\n",
       "      <td>20</td>\n",
       "      <td>246</td>\n",
       "    </tr>\n",
       "    <tr>\n",
       "      <th>74</th>\n",
       "      <td>spices</td>\n",
       "      <td>21</td>\n",
       "      <td>122</td>\n",
       "    </tr>\n",
       "  </tbody>\n",
       "</table>\n",
       "<p>75 rows × 3 columns</p>\n",
       "</div>"
      ],
      "text/plain": [
       "    location  hour  customer_id\n",
       "0   checkout     7          454\n",
       "1   checkout     8          677\n",
       "2   checkout     9          455\n",
       "3   checkout    10          427\n",
       "4   checkout    11          342\n",
       "..       ...   ...          ...\n",
       "70    spices    17          269\n",
       "71    spices    18          346\n",
       "72    spices    19          389\n",
       "73    spices    20          246\n",
       "74    spices    21          122\n",
       "\n",
       "[75 rows x 3 columns]"
      ]
     },
     "execution_count": 55,
     "metadata": {},
     "output_type": "execute_result"
    }
   ],
   "source": [
    "df_otf"
   ]
  },
  {
   "cell_type": "code",
   "execution_count": 57,
   "id": "c20adcfe",
   "metadata": {},
   "outputs": [],
   "source": [
    "import seaborn as sns"
   ]
  },
  {
   "cell_type": "code",
   "execution_count": 58,
   "id": "c68424c2",
   "metadata": {},
   "outputs": [
    {
     "name": "stderr",
     "output_type": "stream",
     "text": [
      "C:\\Users\\zhang\\AppData\\Local\\Continuum\\anaconda3\\lib\\site-packages\\seaborn\\_decorators.py:43: FutureWarning: Pass the following variables as keyword args: x, y. From version 0.12, the only valid positional argument will be `data`, and passing other arguments without an explicit keyword will result in an error or misinterpretation.\n",
      "  FutureWarning\n"
     ]
    },
    {
     "data": {
      "text/plain": [
       "<AxesSubplot:xlabel='hour', ylabel='customer_id'>"
      ]
     },
     "execution_count": 58,
     "metadata": {},
     "output_type": "execute_result"
    },
    {
     "data": {
      "image/png": "[encoded data removed]",
      "text/plain": [
       "<Figure size 432x288 with 1 Axes>"
      ]
     },
     "metadata": {
      "needs_background": "light"
     },
     "output_type": "display_data"
    }
   ],
   "source": [
    "sns.lineplot('hour','customer_id',hue='location',data=df_otf)"
   ]
  },
  {
   "cell_type": "code",
   "execution_count": 33,
   "id": "ee2356ae",
   "metadata": {},
   "outputs": [
    {
     "name": "stdout",
     "output_type": "stream",
     "text": [
      "Calculate the total number of customers in each section {'checkout': 7417, 'dairy': 4679, 'drinks': 3905, 'fruit': 5122, 'spices': 3754}\n"
     ]
    }
   ],
   "source": [
    "d={}\n",
    "for key,value in df_g_l:\n",
    "    d[key]=len(value)\n",
    "print('Calculate the total number of customers in each section',d)\n"
   ]
  },
  {
   "cell_type": "code",
   "execution_count": 42,
   "id": "5a705c41",
   "metadata": {},
   "outputs": [
    {
     "data": {
      "text/html": [
       "<div>\n",
       "<style scoped>\n",
       "    .dataframe tbody tr th:only-of-type {\n",
       "        vertical-align: middle;\n",
       "    }\n",
       "\n",
       "    .dataframe tbody tr th {\n",
       "        vertical-align: top;\n",
       "    }\n",
       "\n",
       "    .dataframe thead th {\n",
       "        text-align: right;\n",
       "    }\n",
       "</style>\n",
       "<table border=\"1\" class=\"dataframe\">\n",
       "  <thead>\n",
       "    <tr style=\"text-align: right;\">\n",
       "      <th></th>\n",
       "      <th>customer_id</th>\n",
       "      <th>hour</th>\n",
       "      <th>day</th>\n",
       "    </tr>\n",
       "    <tr>\n",
       "      <th>location</th>\n",
       "      <th></th>\n",
       "      <th></th>\n",
       "      <th></th>\n",
       "    </tr>\n",
       "  </thead>\n",
       "  <tbody>\n",
       "    <tr>\n",
       "      <th>checkout</th>\n",
       "      <td>string</td>\n",
       "      <td>int64</td>\n",
       "      <td>int64</td>\n",
       "    </tr>\n",
       "    <tr>\n",
       "      <th>dairy</th>\n",
       "      <td>string</td>\n",
       "      <td>int64</td>\n",
       "      <td>int64</td>\n",
       "    </tr>\n",
       "    <tr>\n",
       "      <th>drinks</th>\n",
       "      <td>string</td>\n",
       "      <td>int64</td>\n",
       "      <td>int64</td>\n",
       "    </tr>\n",
       "    <tr>\n",
       "      <th>fruit</th>\n",
       "      <td>string</td>\n",
       "      <td>int64</td>\n",
       "      <td>int64</td>\n",
       "    </tr>\n",
       "    <tr>\n",
       "      <th>spices</th>\n",
       "      <td>string</td>\n",
       "      <td>int64</td>\n",
       "      <td>int64</td>\n",
       "    </tr>\n",
       "  </tbody>\n",
       "</table>\n",
       "</div>"
      ],
      "text/plain": [
       "         customer_id   hour    day\n",
       "location                          \n",
       "checkout      string  int64  int64\n",
       "dairy         string  int64  int64\n",
       "drinks        string  int64  int64\n",
       "fruit         string  int64  int64\n",
       "spices        string  int64  int64"
      ]
     },
     "execution_count": 42,
     "metadata": {},
     "output_type": "execute_result"
    }
   ],
   "source": [
    "df_g_l.dtypes"
   ]
  },
  {
   "cell_type": "code",
   "execution_count": 43,
   "id": "5bbec05e",
   "metadata": {},
   "outputs": [
    {
     "data": {
      "text/plain": [
       "pandas.core.groupby.generic.DataFrameGroupBy"
      ]
     },
     "execution_count": 43,
     "metadata": {},
     "output_type": "execute_result"
    }
   ],
   "source": [
    "type(df_g_l)"
   ]
  },
  {
   "cell_type": "code",
   "execution_count": 34,
   "id": "8d8f8c2f",
   "metadata": {},
   "outputs": [
    {
     "name": "stdout",
     "output_type": "stream",
     "text": [
      "checkout\n",
      "                     location customer_id  hour  day\n",
      "timestamp                                           \n",
      "2019-09-06 07:01:00  checkout          62     7    6\n",
      "2019-09-06 07:02:00  checkout          64     7    6\n",
      "2019-09-06 07:04:00  checkout          68     7    6\n",
      "2019-09-06 07:05:00  checkout          61     7    6\n",
      "2019-09-06 07:05:00  checkout          67     7    6\n",
      "...                       ...         ...   ...  ...\n",
      "2019-09-04 21:45:00  checkout       41525    21    4\n",
      "2019-09-04 21:46:00  checkout       41516    21    4\n",
      "2019-09-04 21:47:00  checkout       41526    21    4\n",
      "2019-09-04 21:48:00  checkout       41522    21    4\n",
      "2019-09-04 21:49:00  checkout       41531    21    4\n",
      "\n",
      "[7417 rows x 4 columns]\n",
      "dairy\n",
      "                    location customer_id  hour  day\n",
      "timestamp                                          \n",
      "2019-09-06 07:00:00    dairy          61     7    6\n",
      "2019-09-06 07:01:00    dairy          65     7    6\n",
      "2019-09-06 07:02:00    dairy          67     7    6\n",
      "2019-09-06 07:03:00    dairy          66     7    6\n",
      "2019-09-06 07:04:00    dairy          63     7    6\n",
      "...                      ...         ...   ...  ...\n",
      "2019-09-04 21:43:00    dairy       41524    21    4\n",
      "2019-09-04 21:44:00    dairy       41527    21    4\n",
      "2019-09-04 21:46:00    dairy       41530    21    4\n",
      "2019-09-04 21:49:00    dairy       41520    21    4\n",
      "2019-09-04 21:49:00    dairy       41529    21    4\n",
      "\n",
      "[4679 rows x 4 columns]\n",
      "drinks\n",
      "                    location customer_id  hour  day\n",
      "timestamp                                          \n",
      "2019-09-06 07:00:00   drinks          62     7    6\n",
      "2019-09-06 07:01:00   drinks          64     7    6\n",
      "2019-09-06 07:05:00   drinks          66     7    6\n",
      "2019-09-06 07:08:00   drinks          65     7    6\n",
      "2019-09-06 07:09:00   drinks         613     7    6\n",
      "...                      ...         ...   ...  ...\n",
      "2019-09-04 21:44:00   drinks       41524    21    4\n",
      "2019-09-04 21:44:00   drinks       41525    21    4\n",
      "2019-09-04 21:45:00   drinks       41528    21    4\n",
      "2019-09-04 21:46:00   drinks       41527    21    4\n",
      "2019-09-04 21:46:00   drinks       41531    21    4\n",
      "\n",
      "[3905 rows x 4 columns]\n",
      "fruit\n",
      "                    location customer_id  hour  day\n",
      "timestamp                                          \n",
      "2019-09-06 07:00:00    fruit          63     7    6\n",
      "2019-09-06 07:03:00    fruit          68     7    6\n",
      "2019-09-06 07:06:00    fruit          69     7    6\n",
      "2019-09-06 07:06:00    fruit         610     7    6\n",
      "2019-09-06 07:06:00    fruit         611     7    6\n",
      "...                      ...         ...   ...  ...\n",
      "2019-09-04 21:41:00    fruit       41519    21    4\n",
      "2019-09-04 21:42:00    fruit       41523    21    4\n",
      "2019-09-04 21:47:00    fruit       41527    21    4\n",
      "2019-09-04 21:47:00    fruit       41529    21    4\n",
      "2019-09-04 21:49:00    fruit       41530    21    4\n",
      "\n",
      "[5122 rows x 4 columns]\n",
      "spices\n",
      "                    location customer_id  hour  day\n",
      "timestamp                                          \n",
      "2019-09-06 07:02:00   spices          66     7    6\n",
      "2019-09-06 07:03:00   spices          63     7    6\n",
      "2019-09-06 07:04:00   spices          61     7    6\n",
      "2019-09-06 07:07:00   spices          65     7    6\n",
      "2019-09-06 07:08:00   spices          66     7    6\n",
      "...                      ...         ...   ...  ...\n",
      "2019-09-04 21:43:00   spices       41525    21    4\n",
      "2019-09-04 21:45:00   spices       41529    21    4\n",
      "2019-09-04 21:47:00   spices       41530    21    4\n",
      "2019-09-04 21:48:00   spices       41520    21    4\n",
      "2019-09-04 21:48:00   spices       41528    21    4\n",
      "\n",
      "[3754 rows x 4 columns]\n"
     ]
    }
   ],
   "source": [
    "# check the values in the groupby subset\n",
    "for key,value in df_g_l:\n",
    "    print(key)\n",
    "    print(value)\n",
    "   # print(len(value))"
   ]
  },
  {
   "cell_type": "code",
   "execution_count": null,
   "id": "171ed50f",
   "metadata": {},
   "outputs": [],
   "source": []
  },
  {
   "cell_type": "code",
   "execution_count": 37,
   "id": "026f8099",
   "metadata": {},
   "outputs": [],
   "source": [
    "def get_customer_time(df):\n",
    "   # df.sort_values('timestamp', inplace=True)\n",
    "    df['time_spent'] = df.index.max() - df.index.min()\n",
    "    return df"
   ]
  },
  {
   "cell_type": "code",
   "execution_count": 38,
   "id": "8d6f6b8b",
   "metadata": {},
   "outputs": [],
   "source": [
    "#Calculate the time each customer spent in the market\n",
    "df_g_c=df.groupby(['customer_id']).apply(get_customer_time)"
   ]
  },
  {
   "cell_type": "code",
   "execution_count": 39,
   "id": "adf66707",
   "metadata": {},
   "outputs": [
    {
     "data": {
      "text/html": [
       "<div>\n",
       "<style scoped>\n",
       "    .dataframe tbody tr th:only-of-type {\n",
       "        vertical-align: middle;\n",
       "    }\n",
       "\n",
       "    .dataframe tbody tr th {\n",
       "        vertical-align: top;\n",
       "    }\n",
       "\n",
       "    .dataframe thead th {\n",
       "        text-align: right;\n",
       "    }\n",
       "</style>\n",
       "<table border=\"1\" class=\"dataframe\">\n",
       "  <thead>\n",
       "    <tr style=\"text-align: right;\">\n",
       "      <th></th>\n",
       "      <th>location</th>\n",
       "      <th>customer_id</th>\n",
       "      <th>hour</th>\n",
       "      <th>day</th>\n",
       "      <th>time_spent</th>\n",
       "    </tr>\n",
       "    <tr>\n",
       "      <th>timestamp</th>\n",
       "      <th></th>\n",
       "      <th></th>\n",
       "      <th></th>\n",
       "      <th></th>\n",
       "      <th></th>\n",
       "    </tr>\n",
       "  </thead>\n",
       "  <tbody>\n",
       "    <tr>\n",
       "      <th>2019-09-06 07:00:00</th>\n",
       "      <td>dairy</td>\n",
       "      <td>61</td>\n",
       "      <td>7</td>\n",
       "      <td>6</td>\n",
       "      <td>0 days 00:05:00</td>\n",
       "    </tr>\n",
       "    <tr>\n",
       "      <th>2019-09-06 07:00:00</th>\n",
       "      <td>drinks</td>\n",
       "      <td>62</td>\n",
       "      <td>7</td>\n",
       "      <td>6</td>\n",
       "      <td>0 days 00:01:00</td>\n",
       "    </tr>\n",
       "    <tr>\n",
       "      <th>2019-09-06 07:00:00</th>\n",
       "      <td>fruit</td>\n",
       "      <td>63</td>\n",
       "      <td>7</td>\n",
       "      <td>6</td>\n",
       "      <td>0 days 00:11:00</td>\n",
       "    </tr>\n",
       "    <tr>\n",
       "      <th>2019-09-06 07:01:00</th>\n",
       "      <td>checkout</td>\n",
       "      <td>62</td>\n",
       "      <td>7</td>\n",
       "      <td>6</td>\n",
       "      <td>0 days 00:01:00</td>\n",
       "    </tr>\n",
       "    <tr>\n",
       "      <th>2019-09-06 07:01:00</th>\n",
       "      <td>drinks</td>\n",
       "      <td>64</td>\n",
       "      <td>7</td>\n",
       "      <td>6</td>\n",
       "      <td>0 days 00:01:00</td>\n",
       "    </tr>\n",
       "    <tr>\n",
       "      <th>...</th>\n",
       "      <td>...</td>\n",
       "      <td>...</td>\n",
       "      <td>...</td>\n",
       "      <td>...</td>\n",
       "      <td>...</td>\n",
       "    </tr>\n",
       "    <tr>\n",
       "      <th>2019-09-04 21:48:00</th>\n",
       "      <td>spices</td>\n",
       "      <td>41528</td>\n",
       "      <td>21</td>\n",
       "      <td>4</td>\n",
       "      <td>0 days 00:03:00</td>\n",
       "    </tr>\n",
       "    <tr>\n",
       "      <th>2019-09-04 21:49:00</th>\n",
       "      <td>dairy</td>\n",
       "      <td>41520</td>\n",
       "      <td>21</td>\n",
       "      <td>4</td>\n",
       "      <td>0 days 00:09:00</td>\n",
       "    </tr>\n",
       "    <tr>\n",
       "      <th>2019-09-04 21:49:00</th>\n",
       "      <td>dairy</td>\n",
       "      <td>41529</td>\n",
       "      <td>21</td>\n",
       "      <td>4</td>\n",
       "      <td>0 days 00:04:00</td>\n",
       "    </tr>\n",
       "    <tr>\n",
       "      <th>2019-09-04 21:49:00</th>\n",
       "      <td>fruit</td>\n",
       "      <td>41530</td>\n",
       "      <td>21</td>\n",
       "      <td>4</td>\n",
       "      <td>0 days 00:03:00</td>\n",
       "    </tr>\n",
       "    <tr>\n",
       "      <th>2019-09-04 21:49:00</th>\n",
       "      <td>checkout</td>\n",
       "      <td>41531</td>\n",
       "      <td>21</td>\n",
       "      <td>4</td>\n",
       "      <td>0 days 00:03:00</td>\n",
       "    </tr>\n",
       "  </tbody>\n",
       "</table>\n",
       "<p>24877 rows × 5 columns</p>\n",
       "</div>"
      ],
      "text/plain": [
       "                     location customer_id  hour  day      time_spent\n",
       "timestamp                                                           \n",
       "2019-09-06 07:00:00     dairy          61     7    6 0 days 00:05:00\n",
       "2019-09-06 07:00:00    drinks          62     7    6 0 days 00:01:00\n",
       "2019-09-06 07:00:00     fruit          63     7    6 0 days 00:11:00\n",
       "2019-09-06 07:01:00  checkout          62     7    6 0 days 00:01:00\n",
       "2019-09-06 07:01:00    drinks          64     7    6 0 days 00:01:00\n",
       "...                       ...         ...   ...  ...             ...\n",
       "2019-09-04 21:48:00    spices       41528    21    4 0 days 00:03:00\n",
       "2019-09-04 21:49:00     dairy       41520    21    4 0 days 00:09:00\n",
       "2019-09-04 21:49:00     dairy       41529    21    4 0 days 00:04:00\n",
       "2019-09-04 21:49:00     fruit       41530    21    4 0 days 00:03:00\n",
       "2019-09-04 21:49:00  checkout       41531    21    4 0 days 00:03:00\n",
       "\n",
       "[24877 rows x 5 columns]"
      ]
     },
     "execution_count": 39,
     "metadata": {},
     "output_type": "execute_result"
    }
   ],
   "source": [
    "df_g_c"
   ]
  },
  {
   "cell_type": "code",
   "execution_count": null,
   "id": "7c2fcc27",
   "metadata": {
    "scrolled": false
   },
   "outputs": [],
   "source": [
    "\n",
    "\n",
    "    "
   ]
  },
  {
   "cell_type": "code",
   "execution_count": null,
   "id": "5fda294b",
   "metadata": {},
   "outputs": [],
   "source": []
  }
 ],
 "metadata": {
  "kernelspec": {
   "display_name": "Python 3",
   "language": "python",
   "name": "python3"
  },
  "language_info": {
   "codemirror_mode": {
    "name": "ipython",
    "version": 3
   },
   "file_extension": ".py",
   "mimetype": "text/x-python",
   "name": "python",
   "nbconvert_exporter": "python",
   "pygments_lexer": "ipython3",
   "version": "3.7.6"
  }
 },
 "nbformat": 4,
 "nbformat_minor": 5
}
