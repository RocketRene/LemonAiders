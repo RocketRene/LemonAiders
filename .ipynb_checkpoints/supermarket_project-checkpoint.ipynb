{
 "cells": [
  {
   "cell_type": "markdown",
   "id": "c3bce908",
   "metadata": {},
   "source": [
    "#  Project: Markov Simulation"
   ]
  },
  {
   "cell_type": "markdown",
   "id": "04062bf0",
   "metadata": {},
   "source": [
    "## 1. EDA the supermarket data\n",
    "    In this part, the following tasks need to be performed:\n",
    "    \n",
    "    \"\n",
    "    1.Calculate the total number of customers in each section\n",
    "\n",
    "    2.Calculate the total number of customers in each section over time\n",
    "\n",
    "    3.Display the number of customers at checkout over time\n",
    "\n",
    "    4.Calculate the time each customer spent in the market\n",
    "\n",
    "    5.Calculate the total number of customers in the supermarket over time.\n",
    "\n",
    "    6. Our business managers think that the first section customers visit follows a different pattern than the following ones. Plot the distribution of customers of their first visited section versus following sections (treat all sections visited after the first as “following”).\n",
    "    \"\n"
   ]
  },
  {
   "cell_type": "code",
   "execution_count": null,
   "id": "30e46acf",
   "metadata": {},
   "outputs": [],
   "source": [
    "import pandas as pd\n",
    "import os"
   ]
  },
  {
   "cell_type": "code",
   "execution_count": null,
   "id": "80dbcb6d",
   "metadata": {},
   "outputs": [],
   "source": []
  },
  {
   "cell_type": "code",
   "execution_count": 116,
   "id": "28199a92",
   "metadata": {},
   "outputs": [],
   "source": [
    "#get the full data\n",
    "\n",
    "def get_data(filepath):\n",
    "    import os\n",
    "    f=os.listdir(filePath)\n",
    "    dff=pd.DataFrame(columns=['timestamp', 'location', 'customer_id'])\n",
    "    for i in f:\n",
    "        df=pd.read_csv(f'./data/{i}',delimiter=';',parse_dates=True)\n",
    "        #change timestamp to datatime\n",
    "        df['timestamp'] = pd.to_datetime(df['timestamp'])\n",
    "        #set timestamp as index\n",
    "        df.set_index('timestamp',drop=True, inplace=True)\n",
    "        df['day']=df.index.day\n",
    "        #change data type of customer_no\n",
    "        df[['customer_no','day']]=df[['customer_no','day']].astype('string')\n",
    "        #generate uni customer_id for every customer in 5 days.\n",
    "        df['customer_id']=df['day']+df['customer_no']\n",
    "        df.drop(['customer_no','day'],axis=1, inplace =True)\n",
    "        df.reset_index(inplace=True)\n",
    "        dff=pd.concat([dff,df])\n",
    "    dff.set_index('timestamp',drop=True, inplace=True)\n",
    "    return dff\n",
    "\n"
   ]
  },
  {
   "cell_type": "code",
   "execution_count": 118,
   "id": "ffb9cad1",
   "metadata": {},
   "outputs": [
    {
     "data": {
      "text/html": [
       "<div>\n",
       "<style scoped>\n",
       "    .dataframe tbody tr th:only-of-type {\n",
       "        vertical-align: middle;\n",
       "    }\n",
       "\n",
       "    .dataframe tbody tr th {\n",
       "        vertical-align: top;\n",
       "    }\n",
       "\n",
       "    .dataframe thead th {\n",
       "        text-align: right;\n",
       "    }\n",
       "</style>\n",
       "<table border=\"1\" class=\"dataframe\">\n",
       "  <thead>\n",
       "    <tr style=\"text-align: right;\">\n",
       "      <th></th>\n",
       "      <th>location</th>\n",
       "      <th>customer_id</th>\n",
       "    </tr>\n",
       "    <tr>\n",
       "      <th>timestamp</th>\n",
       "      <th></th>\n",
       "      <th></th>\n",
       "    </tr>\n",
       "  </thead>\n",
       "  <tbody>\n",
       "    <tr>\n",
       "      <th>2019-09-03 07:02:00</th>\n",
       "      <td>fruit</td>\n",
       "      <td>31</td>\n",
       "    </tr>\n",
       "    <tr>\n",
       "      <th>2019-09-03 07:02:00</th>\n",
       "      <td>drinks</td>\n",
       "      <td>32</td>\n",
       "    </tr>\n",
       "    <tr>\n",
       "      <th>2019-09-03 07:03:00</th>\n",
       "      <td>dairy</td>\n",
       "      <td>33</td>\n",
       "    </tr>\n",
       "    <tr>\n",
       "      <th>2019-09-03 07:05:00</th>\n",
       "      <td>drinks</td>\n",
       "      <td>31</td>\n",
       "    </tr>\n",
       "    <tr>\n",
       "      <th>2019-09-03 07:06:00</th>\n",
       "      <td>dairy</td>\n",
       "      <td>34</td>\n",
       "    </tr>\n",
       "    <tr>\n",
       "      <th>...</th>\n",
       "      <td>...</td>\n",
       "      <td>...</td>\n",
       "    </tr>\n",
       "    <tr>\n",
       "      <th>2019-09-02 21:49:00</th>\n",
       "      <td>checkout</td>\n",
       "      <td>21442</td>\n",
       "    </tr>\n",
       "    <tr>\n",
       "      <th>2019-09-02 21:49:00</th>\n",
       "      <td>checkout</td>\n",
       "      <td>21444</td>\n",
       "    </tr>\n",
       "    <tr>\n",
       "      <th>2019-09-02 21:49:00</th>\n",
       "      <td>dairy</td>\n",
       "      <td>21445</td>\n",
       "    </tr>\n",
       "    <tr>\n",
       "      <th>2019-09-02 21:50:00</th>\n",
       "      <td>dairy</td>\n",
       "      <td>21446</td>\n",
       "    </tr>\n",
       "    <tr>\n",
       "      <th>2019-09-02 21:50:00</th>\n",
       "      <td>fruit</td>\n",
       "      <td>21447</td>\n",
       "    </tr>\n",
       "  </tbody>\n",
       "</table>\n",
       "<p>24877 rows × 2 columns</p>\n",
       "</div>"
      ],
      "text/plain": [
       "                     location customer_id\n",
       "timestamp                                \n",
       "2019-09-03 07:02:00     fruit          31\n",
       "2019-09-03 07:02:00    drinks          32\n",
       "2019-09-03 07:03:00     dairy          33\n",
       "2019-09-03 07:05:00    drinks          31\n",
       "2019-09-03 07:06:00     dairy          34\n",
       "...                       ...         ...\n",
       "2019-09-02 21:49:00  checkout       21442\n",
       "2019-09-02 21:49:00  checkout       21444\n",
       "2019-09-02 21:49:00     dairy       21445\n",
       "2019-09-02 21:50:00     dairy       21446\n",
       "2019-09-02 21:50:00     fruit       21447\n",
       "\n",
       "[24877 rows x 2 columns]"
      ]
     },
     "execution_count": 118,
     "metadata": {},
     "output_type": "execute_result"
    }
   ],
   "source": [
    "\n",
    "# list all the files in the folder\n",
    "\n",
    "filepath = './data/'\n",
    "get_data(filepath)"
   ]
  },
  {
   "cell_type": "code",
   "execution_count": 23,
   "id": "06654631",
   "metadata": {},
   "outputs": [
    {
     "data": {
      "text/plain": [
       "array(['dairy', 'spices', 'fruit', 'checkout', 'drinks'], dtype=object)"
      ]
     },
     "execution_count": 23,
     "metadata": {},
     "output_type": "execute_result"
    }
   ],
   "source": [
    "# explore the unique value in column 'location'\n",
    "df['location'].unique()"
   ]
  },
  {
   "cell_type": "code",
   "execution_count": null,
   "id": "fd8dbf8f",
   "metadata": {},
   "outputs": [],
   "source": []
  },
  {
   "cell_type": "code",
   "execution_count": 89,
   "id": "7db7364e",
   "metadata": {},
   "outputs": [
    {
     "name": "stderr",
     "output_type": "stream",
     "text": [
      "C:\\Users\\zhang\\AppData\\Local\\Continuum\\anaconda3\\lib\\site-packages\\ipykernel_launcher.py:3: FutureWarning: Indexing with multiple keys (implicitly converted to a tuple of keys) will be deprecated, use a list instead.\n",
      "  This is separate from the ipykernel package so we can avoid doing imports until\n"
     ]
    }
   ],
   "source": [
    "#Calculate the total number of customers in each section\n",
    "#example of groupby function: df.groupby(\"Sex\").agg({\"Survived\":np.sum, \"Age\":np.mean, \"Fare\":np.mean})\n",
    "df_g_l=df.groupby(['location'])['timestamp','customer_no']"
   ]
  },
  {
   "cell_type": "code",
   "execution_count": 90,
   "id": "ee2356ae",
   "metadata": {},
   "outputs": [
    {
     "name": "stdout",
     "output_type": "stream",
     "text": [
      "{'checkout': 1437, 'dairy': 895, 'drinks': 797, 'fruit': 1005, 'spices': 750}\n"
     ]
    }
   ],
   "source": [
    "d={}\n",
    "for key,value in df_g_l:\n",
    "    d[key]=len(value)\n",
    "print(d)\n",
    "    #print('section:'key)\n",
    "    #print('number of customers:'len(value))"
   ]
  },
  {
   "cell_type": "code",
   "execution_count": 33,
   "id": "5a705c41",
   "metadata": {},
   "outputs": [],
   "source": [
    "#df1.head()"
   ]
  },
  {
   "cell_type": "code",
   "execution_count": 91,
   "id": "8d8f8c2f",
   "metadata": {},
   "outputs": [
    {
     "name": "stdout",
     "output_type": "stream",
     "text": [
      "checkout\n",
      "               timestamp  customer_no  location\n",
      "8    2019-09-02 07:05:00            1  checkout\n",
      "9    2019-09-02 07:05:00            5  checkout\n",
      "12   2019-09-02 07:06:00            2  checkout\n",
      "13   2019-09-02 07:06:00            3  checkout\n",
      "20   2019-09-02 07:07:00            8  checkout\n",
      "...                  ...          ...       ...\n",
      "4864 2019-09-02 21:47:00         1438  checkout\n",
      "4869 2019-09-02 21:48:00         1431  checkout\n",
      "4871 2019-09-02 21:48:00         1434  checkout\n",
      "4879 2019-09-02 21:49:00         1442  checkout\n",
      "4880 2019-09-02 21:49:00         1444  checkout\n",
      "\n",
      "[1437 rows x 3 columns]\n",
      "dairy\n",
      "               timestamp  customer_no location\n",
      "0    2019-09-02 07:03:00            1    dairy\n",
      "1    2019-09-02 07:03:00            2    dairy\n",
      "2    2019-09-02 07:04:00            3    dairy\n",
      "3    2019-09-02 07:04:00            4    dairy\n",
      "10   2019-09-02 07:05:00            6    dairy\n",
      "...                  ...          ...      ...\n",
      "4865 2019-09-02 21:47:00         1441    dairy\n",
      "4868 2019-09-02 21:48:00         1430    dairy\n",
      "4873 2019-09-02 21:48:00         1443    dairy\n",
      "4881 2019-09-02 21:49:00         1445    dairy\n",
      "4882 2019-09-02 21:50:00         1446    dairy\n",
      "\n",
      "[895 rows x 3 columns]\n",
      "drinks\n",
      "               timestamp  customer_no location\n",
      "11   2019-09-02 07:05:00            7   drinks\n",
      "16   2019-09-02 07:06:00           11   drinks\n",
      "21   2019-09-02 07:07:00           12   drinks\n",
      "39   2019-09-02 07:12:00           20   drinks\n",
      "43   2019-09-02 07:13:00           19   drinks\n",
      "...                  ...          ...      ...\n",
      "4852 2019-09-02 21:43:00         1436   drinks\n",
      "4857 2019-09-02 21:46:00         1434   drinks\n",
      "4861 2019-09-02 21:46:00         1440   drinks\n",
      "4870 2019-09-02 21:48:00         1433   drinks\n",
      "4872 2019-09-02 21:48:00         1441   drinks\n",
      "\n",
      "[797 rows x 3 columns]\n",
      "fruit\n",
      "               timestamp  customer_no location\n",
      "7    2019-09-02 07:04:00            8    fruit\n",
      "15   2019-09-02 07:06:00           10    fruit\n",
      "19   2019-09-02 07:06:00           14    fruit\n",
      "27   2019-09-02 07:08:00           15    fruit\n",
      "32   2019-09-02 07:11:00            7    fruit\n",
      "...                  ...          ...      ...\n",
      "4866 2019-09-02 21:47:00         1442    fruit\n",
      "4867 2019-09-02 21:47:00         1443    fruit\n",
      "4875 2019-09-02 21:49:00         1430    fruit\n",
      "4876 2019-09-02 21:49:00         1433    fruit\n",
      "4883 2019-09-02 21:50:00         1447    fruit\n",
      "\n",
      "[1005 rows x 3 columns]\n",
      "spices\n",
      "               timestamp  customer_no location\n",
      "4    2019-09-02 07:04:00            5   spices\n",
      "5    2019-09-02 07:04:00            6   spices\n",
      "6    2019-09-02 07:04:00            7   spices\n",
      "17   2019-09-02 07:06:00           12   spices\n",
      "22   2019-09-02 07:07:00           15   spices\n",
      "...                  ...          ...      ...\n",
      "4856 2019-09-02 21:46:00         1433   spices\n",
      "4859 2019-09-02 21:46:00         1438   spices\n",
      "4874 2019-09-02 21:48:00         1444   spices\n",
      "4877 2019-09-02 21:49:00         1440   spices\n",
      "4878 2019-09-02 21:49:00         1441   spices\n",
      "\n",
      "[750 rows x 3 columns]\n"
     ]
    }
   ],
   "source": [
    "# check the values in the groupby subset\n",
    "for key,value in df_g_l:\n",
    "    print(key)\n",
    "    print(value)\n",
    "   # print(len(value))"
   ]
  },
  {
   "cell_type": "code",
   "execution_count": null,
   "id": "171ed50f",
   "metadata": {},
   "outputs": [],
   "source": []
  },
  {
   "cell_type": "code",
   "execution_count": 93,
   "id": "026f8099",
   "metadata": {},
   "outputs": [],
   "source": [
    "def get_customer_time(df):\n",
    "   # df.sort_values('timestamp', inplace=True)\n",
    "    df['time_spent'] = df['timestamp'].max() - df['timestamp'].min()\n",
    "    return df"
   ]
  },
  {
   "cell_type": "code",
   "execution_count": 94,
   "id": "8d6f6b8b",
   "metadata": {},
   "outputs": [],
   "source": [
    "#Calculate the time each customer spent in the market\n",
    "df_g_c=df.groupby(['customer_no']).apply(get_customer_time)"
   ]
  },
  {
   "cell_type": "code",
   "execution_count": 96,
   "id": "adf66707",
   "metadata": {},
   "outputs": [
    {
     "data": {
      "text/html": [
       "<div>\n",
       "<style scoped>\n",
       "    .dataframe tbody tr th:only-of-type {\n",
       "        vertical-align: middle;\n",
       "    }\n",
       "\n",
       "    .dataframe tbody tr th {\n",
       "        vertical-align: top;\n",
       "    }\n",
       "\n",
       "    .dataframe thead th {\n",
       "        text-align: right;\n",
       "    }\n",
       "</style>\n",
       "<table border=\"1\" class=\"dataframe\">\n",
       "  <thead>\n",
       "    <tr style=\"text-align: right;\">\n",
       "      <th></th>\n",
       "      <th>timestamp</th>\n",
       "      <th>customer_no</th>\n",
       "      <th>location</th>\n",
       "      <th>time_spent</th>\n",
       "    </tr>\n",
       "  </thead>\n",
       "  <tbody>\n",
       "    <tr>\n",
       "      <th>0</th>\n",
       "      <td>2019-09-02 07:03:00</td>\n",
       "      <td>1</td>\n",
       "      <td>dairy</td>\n",
       "      <td>0 days 00:02:00</td>\n",
       "    </tr>\n",
       "    <tr>\n",
       "      <th>1</th>\n",
       "      <td>2019-09-02 07:03:00</td>\n",
       "      <td>2</td>\n",
       "      <td>dairy</td>\n",
       "      <td>0 days 00:03:00</td>\n",
       "    </tr>\n",
       "    <tr>\n",
       "      <th>2</th>\n",
       "      <td>2019-09-02 07:04:00</td>\n",
       "      <td>3</td>\n",
       "      <td>dairy</td>\n",
       "      <td>0 days 00:02:00</td>\n",
       "    </tr>\n",
       "    <tr>\n",
       "      <th>3</th>\n",
       "      <td>2019-09-02 07:04:00</td>\n",
       "      <td>4</td>\n",
       "      <td>dairy</td>\n",
       "      <td>0 days 00:04:00</td>\n",
       "    </tr>\n",
       "    <tr>\n",
       "      <th>4</th>\n",
       "      <td>2019-09-02 07:04:00</td>\n",
       "      <td>5</td>\n",
       "      <td>spices</td>\n",
       "      <td>0 days 00:01:00</td>\n",
       "    </tr>\n",
       "    <tr>\n",
       "      <th>...</th>\n",
       "      <td>...</td>\n",
       "      <td>...</td>\n",
       "      <td>...</td>\n",
       "      <td>...</td>\n",
       "    </tr>\n",
       "    <tr>\n",
       "      <th>4879</th>\n",
       "      <td>2019-09-02 21:49:00</td>\n",
       "      <td>1442</td>\n",
       "      <td>checkout</td>\n",
       "      <td>0 days 00:02:00</td>\n",
       "    </tr>\n",
       "    <tr>\n",
       "      <th>4880</th>\n",
       "      <td>2019-09-02 21:49:00</td>\n",
       "      <td>1444</td>\n",
       "      <td>checkout</td>\n",
       "      <td>0 days 00:01:00</td>\n",
       "    </tr>\n",
       "    <tr>\n",
       "      <th>4881</th>\n",
       "      <td>2019-09-02 21:49:00</td>\n",
       "      <td>1445</td>\n",
       "      <td>dairy</td>\n",
       "      <td>0 days 00:00:00</td>\n",
       "    </tr>\n",
       "    <tr>\n",
       "      <th>4882</th>\n",
       "      <td>2019-09-02 21:50:00</td>\n",
       "      <td>1446</td>\n",
       "      <td>dairy</td>\n",
       "      <td>0 days 00:00:00</td>\n",
       "    </tr>\n",
       "    <tr>\n",
       "      <th>4883</th>\n",
       "      <td>2019-09-02 21:50:00</td>\n",
       "      <td>1447</td>\n",
       "      <td>fruit</td>\n",
       "      <td>0 days 00:00:00</td>\n",
       "    </tr>\n",
       "  </tbody>\n",
       "</table>\n",
       "<p>4884 rows × 4 columns</p>\n",
       "</div>"
      ],
      "text/plain": [
       "               timestamp  customer_no  location      time_spent\n",
       "0    2019-09-02 07:03:00            1     dairy 0 days 00:02:00\n",
       "1    2019-09-02 07:03:00            2     dairy 0 days 00:03:00\n",
       "2    2019-09-02 07:04:00            3     dairy 0 days 00:02:00\n",
       "3    2019-09-02 07:04:00            4     dairy 0 days 00:04:00\n",
       "4    2019-09-02 07:04:00            5    spices 0 days 00:01:00\n",
       "...                  ...          ...       ...             ...\n",
       "4879 2019-09-02 21:49:00         1442  checkout 0 days 00:02:00\n",
       "4880 2019-09-02 21:49:00         1444  checkout 0 days 00:01:00\n",
       "4881 2019-09-02 21:49:00         1445     dairy 0 days 00:00:00\n",
       "4882 2019-09-02 21:50:00         1446     dairy 0 days 00:00:00\n",
       "4883 2019-09-02 21:50:00         1447     fruit 0 days 00:00:00\n",
       "\n",
       "[4884 rows x 4 columns]"
      ]
     },
     "execution_count": 96,
     "metadata": {},
     "output_type": "execute_result"
    }
   ],
   "source": [
    "df_g_c"
   ]
  },
  {
   "cell_type": "code",
   "execution_count": null,
   "id": "7c2fcc27",
   "metadata": {
    "scrolled": false
   },
   "outputs": [],
   "source": [
    "\n",
    "\n",
    "    "
   ]
  },
  {
   "cell_type": "code",
   "execution_count": null,
   "id": "5fda294b",
   "metadata": {},
   "outputs": [],
   "source": []
  }
 ],
 "metadata": {
  "kernelspec": {
   "display_name": "Python 3",
   "language": "python",
   "name": "python3"
  },
  "language_info": {
   "codemirror_mode": {
    "name": "ipython",
    "version": 3
   },
   "file_extension": ".py",
   "mimetype": "text/x-python",
   "name": "python",
   "nbconvert_exporter": "python",
   "pygments_lexer": "ipython3",
   "version": "3.8.8"
  }
 },
 "nbformat": 4,
 "nbformat_minor": 5
}
